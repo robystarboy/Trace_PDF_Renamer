{
 "cells": [
  {
   "cell_type": "code",
   "execution_count": 4,
   "id": "04ad7f3d-8d51-46c8-b6ab-bb980e4c3e71",
   "metadata": {},
   "outputs": [
    {
     "name": "stdout",
     "output_type": "stream",
     "text": [
      "Title Page.pdf doesn't exist\n",
      "Bldg Env Htg Ld (Space Pk).pdf doesn't exist\n",
      "\n"
     ]
    },
    {
     "ename": "FileNotFoundError",
     "evalue": "[Errno 2] No such file or directory: '01. Title Page.pdf'",
     "output_type": "error",
     "traceback": [
      "\u001b[1;31m---------------------------------------------------------------------------\u001b[0m",
      "\u001b[1;31mFileNotFoundError\u001b[0m                         Traceback (most recent call last)",
      "\u001b[1;32m~\\AppData\\Local\\Temp/ipykernel_26420/212746112.py\u001b[0m in \u001b[0;36m<module>\u001b[1;34m\u001b[0m\n\u001b[0;32m     49\u001b[0m \u001b[0mcount\u001b[0m \u001b[1;33m=\u001b[0m \u001b[1;36m0\u001b[0m\u001b[1;33m\u001b[0m\u001b[1;33m\u001b[0m\u001b[0m\n\u001b[0;32m     50\u001b[0m \u001b[1;32mfor\u001b[0m \u001b[0my\u001b[0m \u001b[1;32min\u001b[0m \u001b[0mnew_pdfs\u001b[0m\u001b[1;33m:\u001b[0m\u001b[1;33m\u001b[0m\u001b[1;33m\u001b[0m\u001b[0m\n\u001b[1;32m---> 51\u001b[1;33m     file.merge(\n\u001b[0m\u001b[0;32m     52\u001b[0m         \u001b[0mposition\u001b[0m\u001b[1;33m=\u001b[0m\u001b[0mcount\u001b[0m\u001b[1;33m,\u001b[0m\u001b[1;33m\u001b[0m\u001b[1;33m\u001b[0m\u001b[0m\n\u001b[0;32m     53\u001b[0m         \u001b[0mfileobj\u001b[0m\u001b[1;33m=\u001b[0m\u001b[0mnew_pdfs\u001b[0m\u001b[1;33m[\u001b[0m\u001b[0mcount\u001b[0m\u001b[1;33m]\u001b[0m\u001b[1;33m,\u001b[0m\u001b[1;33m\u001b[0m\u001b[1;33m\u001b[0m\u001b[0m\n",
      "\u001b[1;32m~\\Anaconda3\\lib\\site-packages\\PyPDF2\\merger.py\u001b[0m in \u001b[0;36mmerge\u001b[1;34m(self, position, fileobj, bookmark, pages, import_bookmarks)\u001b[0m\n\u001b[0;32m    118\u001b[0m         \u001b[0mdecryption_key\u001b[0m \u001b[1;33m=\u001b[0m \u001b[1;32mNone\u001b[0m\u001b[1;33m\u001b[0m\u001b[1;33m\u001b[0m\u001b[0m\n\u001b[0;32m    119\u001b[0m         \u001b[1;32mif\u001b[0m \u001b[0misString\u001b[0m\u001b[1;33m(\u001b[0m\u001b[0mfileobj\u001b[0m\u001b[1;33m)\u001b[0m\u001b[1;33m:\u001b[0m\u001b[1;33m\u001b[0m\u001b[1;33m\u001b[0m\u001b[0m\n\u001b[1;32m--> 120\u001b[1;33m             \u001b[0mfileobj\u001b[0m \u001b[1;33m=\u001b[0m \u001b[0mfile\u001b[0m\u001b[1;33m(\u001b[0m\u001b[0mfileobj\u001b[0m\u001b[1;33m,\u001b[0m \u001b[1;34m'rb'\u001b[0m\u001b[1;33m)\u001b[0m\u001b[1;33m\u001b[0m\u001b[1;33m\u001b[0m\u001b[0m\n\u001b[0m\u001b[0;32m    121\u001b[0m             \u001b[0mmy_file\u001b[0m \u001b[1;33m=\u001b[0m \u001b[1;32mTrue\u001b[0m\u001b[1;33m\u001b[0m\u001b[1;33m\u001b[0m\u001b[0m\n\u001b[0;32m    122\u001b[0m         \u001b[1;32melif\u001b[0m \u001b[0mhasattr\u001b[0m\u001b[1;33m(\u001b[0m\u001b[0mfileobj\u001b[0m\u001b[1;33m,\u001b[0m \u001b[1;34m\"seek\"\u001b[0m\u001b[1;33m)\u001b[0m \u001b[1;32mand\u001b[0m \u001b[0mhasattr\u001b[0m\u001b[1;33m(\u001b[0m\u001b[0mfileobj\u001b[0m\u001b[1;33m,\u001b[0m \u001b[1;34m\"read\"\u001b[0m\u001b[1;33m)\u001b[0m\u001b[1;33m:\u001b[0m\u001b[1;33m\u001b[0m\u001b[1;33m\u001b[0m\u001b[0m\n",
      "\u001b[1;31mFileNotFoundError\u001b[0m: [Errno 2] No such file or directory: '01. Title Page.pdf'"
     ]
    }
   ],
   "source": [
    "import os\n",
    "from PyPDF2 import PdfFileReader, PdfFileMerger\n",
    "from pathlib import Path\n",
    "\n",
    "pdfs = ['Title Page.pdf', \n",
    "        'Room Information.pdf', \n",
    "        'System Information.pdf', \n",
    "        'Project Information.pdf', \n",
    "        'System Checksums.pdf', \n",
    "        'Room Checksums.pdf', \n",
    "        'Zone Checksums.pdf', \n",
    "        'Load Airflow Summary.pdf', \n",
    "        'Peak Cooling Load (Main System).pdf', \n",
    "        'Peak Heating Load (Main System).pdf', \n",
    "        'Bldg Env Clg Ld (Space Peak).pdf', \n",
    "        'Bldg Env Htg Ld (Space Pk).pdf']\n",
    "\n",
    "\n",
    "#Initialize empty string\n",
    "new_pdfs = []\n",
    "\n",
    "#Rename files and add leading integers\n",
    "count = 0\n",
    "n = 1\n",
    "for x in pdfs:\n",
    "    num_str = str(n)\n",
    "    fill_num = num_str.zfill(2)\n",
    "    new_name = fill_num+\". \"+pdfs[count]\n",
    "    new_pdfs.append(new_name)\n",
    "    #print(pdfs[count])\n",
    "    try:\n",
    "        my_file = open(pdfs[count])\n",
    "        my_file.close()\n",
    "        os.rename(pdfs[count], new_name)\n",
    "    except IOError:\n",
    "    # file didn't exist (or other issues)\n",
    "        print(pdfs[count],\"doesn't exist\")\n",
    "        pass\n",
    "    \n",
    "    \n",
    "    count += 1\n",
    "    n += 1\n",
    "\n",
    "print(\"\")\n",
    "#Remove extenstions for bookmark names\n",
    "marks = [os.path.splitext(x)[0] for x in new_pdfs]   \n",
    "    \n",
    "file = PdfFileMerger(strict=False)\n",
    "count = 0\n",
    "for y in new_pdfs:\n",
    "    file.merge(\n",
    "        position=count,\n",
    "        fileobj=new_pdfs[count],\n",
    "        bookmark=marks[count]\n",
    "    )\n",
    "    print(marks[count])\n",
    "    count += 1\n",
    "\n",
    "print(\"\")\n",
    "print(\"Do not close window. Processing COMBINED PDF...\")\n",
    "file.write('COMBINED.pdf')\n",
    "print(\"Complete!\")"
   ]
  },
  {
   "cell_type": "code",
   "execution_count": null,
   "id": "35c5b296-1b45-48dd-ad36-7523ba1d351c",
   "metadata": {},
   "outputs": [],
   "source": []
  },
  {
   "cell_type": "code",
   "execution_count": null,
   "id": "76d7f9af-ff2f-413d-ae48-d71efe46614c",
   "metadata": {
    "tags": []
   },
   "outputs": [],
   "source": []
  },
  {
   "cell_type": "code",
   "execution_count": null,
   "id": "ab836a40-e719-4ab1-90a8-fe2829f839e9",
   "metadata": {},
   "outputs": [],
   "source": []
  },
  {
   "cell_type": "code",
   "execution_count": null,
   "id": "98bbac79-5743-4541-98d9-d5d4b12e3573",
   "metadata": {},
   "outputs": [],
   "source": []
  },
  {
   "cell_type": "code",
   "execution_count": null,
   "id": "a85b58f6-9d42-42b7-aca2-def2871f8d32",
   "metadata": {},
   "outputs": [],
   "source": []
  },
  {
   "cell_type": "code",
   "execution_count": null,
   "id": "5eb260c5-41b7-41d6-a26e-77febeceeb76",
   "metadata": {},
   "outputs": [],
   "source": []
  }
 ],
 "metadata": {
  "kernelspec": {
   "display_name": "Python 3 (ipykernel)",
   "language": "python",
   "name": "python3"
  },
  "language_info": {
   "codemirror_mode": {
    "name": "ipython",
    "version": 3
   },
   "file_extension": ".py",
   "mimetype": "text/x-python",
   "name": "python",
   "nbconvert_exporter": "python",
   "pygments_lexer": "ipython3",
   "version": "3.9.7"
  },
  "toc-autonumbering": true,
  "toc-showtags": true
 },
 "nbformat": 4,
 "nbformat_minor": 5
}
